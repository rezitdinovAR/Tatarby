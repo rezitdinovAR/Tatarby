{
  "nbformat": 4,
  "nbformat_minor": 0,
  "metadata": {
    "colab": {
      "provenance": [],
      "gpuType": "T4"
    },
    "kernelspec": {
      "name": "python3",
      "display_name": "Python 3"
    },
    "language_info": {
      "name": "python"
    },
    "widgets": {
      "application/vnd.jupyter.widget-state+json": {
        "bdcadca2dddc459785ae34a14adfbeb5": {
          "model_module": "@jupyter-widgets/controls",
          "model_name": "HBoxModel",
          "model_module_version": "1.5.0",
          "state": {
            "_dom_classes": [],
            "_model_module": "@jupyter-widgets/controls",
            "_model_module_version": "1.5.0",
            "_model_name": "HBoxModel",
            "_view_count": null,
            "_view_module": "@jupyter-widgets/controls",
            "_view_module_version": "1.5.0",
            "_view_name": "HBoxView",
            "box_style": "",
            "children": [
              "IPY_MODEL_21e47e36c4254b8094b158f61426aeb6",
              "IPY_MODEL_d849617e3a944bcc919cdd49d878fab2",
              "IPY_MODEL_3b352ae2931c46d0baaf58b4870c7541"
            ],
            "layout": "IPY_MODEL_ea38dc850f414f24809a1c2342cbdf85"
          }
        },
        "21e47e36c4254b8094b158f61426aeb6": {
          "model_module": "@jupyter-widgets/controls",
          "model_name": "HTMLModel",
          "model_module_version": "1.5.0",
          "state": {
            "_dom_classes": [],
            "_model_module": "@jupyter-widgets/controls",
            "_model_module_version": "1.5.0",
            "_model_name": "HTMLModel",
            "_view_count": null,
            "_view_module": "@jupyter-widgets/controls",
            "_view_module_version": "1.5.0",
            "_view_name": "HTMLView",
            "description": "",
            "description_tooltip": null,
            "layout": "IPY_MODEL_a8d08a4135a84c7d896d626c39bec1ed",
            "placeholder": "​",
            "style": "IPY_MODEL_049b378644664a009cc0a3dda54c9593",
            "value": "Epoch:   0%"
          }
        },
        "d849617e3a944bcc919cdd49d878fab2": {
          "model_module": "@jupyter-widgets/controls",
          "model_name": "FloatProgressModel",
          "model_module_version": "1.5.0",
          "state": {
            "_dom_classes": [],
            "_model_module": "@jupyter-widgets/controls",
            "_model_module_version": "1.5.0",
            "_model_name": "FloatProgressModel",
            "_view_count": null,
            "_view_module": "@jupyter-widgets/controls",
            "_view_module_version": "1.5.0",
            "_view_name": "ProgressView",
            "bar_style": "",
            "description": "",
            "description_tooltip": null,
            "layout": "IPY_MODEL_fbebf0248de74dc9bb17415f19e4101c",
            "max": 5,
            "min": 0,
            "orientation": "horizontal",
            "style": "IPY_MODEL_8860347ed7394e6ebd8a0eada09170bf",
            "value": 0
          }
        },
        "3b352ae2931c46d0baaf58b4870c7541": {
          "model_module": "@jupyter-widgets/controls",
          "model_name": "HTMLModel",
          "model_module_version": "1.5.0",
          "state": {
            "_dom_classes": [],
            "_model_module": "@jupyter-widgets/controls",
            "_model_module_version": "1.5.0",
            "_model_name": "HTMLModel",
            "_view_count": null,
            "_view_module": "@jupyter-widgets/controls",
            "_view_module_version": "1.5.0",
            "_view_name": "HTMLView",
            "description": "",
            "description_tooltip": null,
            "layout": "IPY_MODEL_0f8116e9ad0c4768a870181d582b9832",
            "placeholder": "​",
            "style": "IPY_MODEL_44f2964d95174d6ab28cbad15fb3dc30",
            "value": " 0/5 [00:00&lt;?, ?it/s]"
          }
        },
        "ea38dc850f414f24809a1c2342cbdf85": {
          "model_module": "@jupyter-widgets/base",
          "model_name": "LayoutModel",
          "model_module_version": "1.2.0",
          "state": {
            "_model_module": "@jupyter-widgets/base",
            "_model_module_version": "1.2.0",
            "_model_name": "LayoutModel",
            "_view_count": null,
            "_view_module": "@jupyter-widgets/base",
            "_view_module_version": "1.2.0",
            "_view_name": "LayoutView",
            "align_content": null,
            "align_items": null,
            "align_self": null,
            "border": null,
            "bottom": null,
            "display": null,
            "flex": null,
            "flex_flow": null,
            "grid_area": null,
            "grid_auto_columns": null,
            "grid_auto_flow": null,
            "grid_auto_rows": null,
            "grid_column": null,
            "grid_gap": null,
            "grid_row": null,
            "grid_template_areas": null,
            "grid_template_columns": null,
            "grid_template_rows": null,
            "height": null,
            "justify_content": null,
            "justify_items": null,
            "left": null,
            "margin": null,
            "max_height": null,
            "max_width": null,
            "min_height": null,
            "min_width": null,
            "object_fit": null,
            "object_position": null,
            "order": null,
            "overflow": null,
            "overflow_x": null,
            "overflow_y": null,
            "padding": null,
            "right": null,
            "top": null,
            "visibility": null,
            "width": null
          }
        },
        "a8d08a4135a84c7d896d626c39bec1ed": {
          "model_module": "@jupyter-widgets/base",
          "model_name": "LayoutModel",
          "model_module_version": "1.2.0",
          "state": {
            "_model_module": "@jupyter-widgets/base",
            "_model_module_version": "1.2.0",
            "_model_name": "LayoutModel",
            "_view_count": null,
            "_view_module": "@jupyter-widgets/base",
            "_view_module_version": "1.2.0",
            "_view_name": "LayoutView",
            "align_content": null,
            "align_items": null,
            "align_self": null,
            "border": null,
            "bottom": null,
            "display": null,
            "flex": null,
            "flex_flow": null,
            "grid_area": null,
            "grid_auto_columns": null,
            "grid_auto_flow": null,
            "grid_auto_rows": null,
            "grid_column": null,
            "grid_gap": null,
            "grid_row": null,
            "grid_template_areas": null,
            "grid_template_columns": null,
            "grid_template_rows": null,
            "height": null,
            "justify_content": null,
            "justify_items": null,
            "left": null,
            "margin": null,
            "max_height": null,
            "max_width": null,
            "min_height": null,
            "min_width": null,
            "object_fit": null,
            "object_position": null,
            "order": null,
            "overflow": null,
            "overflow_x": null,
            "overflow_y": null,
            "padding": null,
            "right": null,
            "top": null,
            "visibility": null,
            "width": null
          }
        },
        "049b378644664a009cc0a3dda54c9593": {
          "model_module": "@jupyter-widgets/controls",
          "model_name": "DescriptionStyleModel",
          "model_module_version": "1.5.0",
          "state": {
            "_model_module": "@jupyter-widgets/controls",
            "_model_module_version": "1.5.0",
            "_model_name": "DescriptionStyleModel",
            "_view_count": null,
            "_view_module": "@jupyter-widgets/base",
            "_view_module_version": "1.2.0",
            "_view_name": "StyleView",
            "description_width": ""
          }
        },
        "fbebf0248de74dc9bb17415f19e4101c": {
          "model_module": "@jupyter-widgets/base",
          "model_name": "LayoutModel",
          "model_module_version": "1.2.0",
          "state": {
            "_model_module": "@jupyter-widgets/base",
            "_model_module_version": "1.2.0",
            "_model_name": "LayoutModel",
            "_view_count": null,
            "_view_module": "@jupyter-widgets/base",
            "_view_module_version": "1.2.0",
            "_view_name": "LayoutView",
            "align_content": null,
            "align_items": null,
            "align_self": null,
            "border": null,
            "bottom": null,
            "display": null,
            "flex": null,
            "flex_flow": null,
            "grid_area": null,
            "grid_auto_columns": null,
            "grid_auto_flow": null,
            "grid_auto_rows": null,
            "grid_column": null,
            "grid_gap": null,
            "grid_row": null,
            "grid_template_areas": null,
            "grid_template_columns": null,
            "grid_template_rows": null,
            "height": null,
            "justify_content": null,
            "justify_items": null,
            "left": null,
            "margin": null,
            "max_height": null,
            "max_width": null,
            "min_height": null,
            "min_width": null,
            "object_fit": null,
            "object_position": null,
            "order": null,
            "overflow": null,
            "overflow_x": null,
            "overflow_y": null,
            "padding": null,
            "right": null,
            "top": null,
            "visibility": null,
            "width": null
          }
        },
        "8860347ed7394e6ebd8a0eada09170bf": {
          "model_module": "@jupyter-widgets/controls",
          "model_name": "ProgressStyleModel",
          "model_module_version": "1.5.0",
          "state": {
            "_model_module": "@jupyter-widgets/controls",
            "_model_module_version": "1.5.0",
            "_model_name": "ProgressStyleModel",
            "_view_count": null,
            "_view_module": "@jupyter-widgets/base",
            "_view_module_version": "1.2.0",
            "_view_name": "StyleView",
            "bar_color": null,
            "description_width": ""
          }
        },
        "0f8116e9ad0c4768a870181d582b9832": {
          "model_module": "@jupyter-widgets/base",
          "model_name": "LayoutModel",
          "model_module_version": "1.2.0",
          "state": {
            "_model_module": "@jupyter-widgets/base",
            "_model_module_version": "1.2.0",
            "_model_name": "LayoutModel",
            "_view_count": null,
            "_view_module": "@jupyter-widgets/base",
            "_view_module_version": "1.2.0",
            "_view_name": "LayoutView",
            "align_content": null,
            "align_items": null,
            "align_self": null,
            "border": null,
            "bottom": null,
            "display": null,
            "flex": null,
            "flex_flow": null,
            "grid_area": null,
            "grid_auto_columns": null,
            "grid_auto_flow": null,
            "grid_auto_rows": null,
            "grid_column": null,
            "grid_gap": null,
            "grid_row": null,
            "grid_template_areas": null,
            "grid_template_columns": null,
            "grid_template_rows": null,
            "height": null,
            "justify_content": null,
            "justify_items": null,
            "left": null,
            "margin": null,
            "max_height": null,
            "max_width": null,
            "min_height": null,
            "min_width": null,
            "object_fit": null,
            "object_position": null,
            "order": null,
            "overflow": null,
            "overflow_x": null,
            "overflow_y": null,
            "padding": null,
            "right": null,
            "top": null,
            "visibility": null,
            "width": null
          }
        },
        "44f2964d95174d6ab28cbad15fb3dc30": {
          "model_module": "@jupyter-widgets/controls",
          "model_name": "DescriptionStyleModel",
          "model_module_version": "1.5.0",
          "state": {
            "_model_module": "@jupyter-widgets/controls",
            "_model_module_version": "1.5.0",
            "_model_name": "DescriptionStyleModel",
            "_view_count": null,
            "_view_module": "@jupyter-widgets/base",
            "_view_module_version": "1.2.0",
            "_view_name": "StyleView",
            "description_width": ""
          }
        },
        "f9b080484962477f854a13984e8b6b3b": {
          "model_module": "@jupyter-widgets/controls",
          "model_name": "HBoxModel",
          "model_module_version": "1.5.0",
          "state": {
            "_dom_classes": [],
            "_model_module": "@jupyter-widgets/controls",
            "_model_module_version": "1.5.0",
            "_model_name": "HBoxModel",
            "_view_count": null,
            "_view_module": "@jupyter-widgets/controls",
            "_view_module_version": "1.5.0",
            "_view_name": "HBoxView",
            "box_style": "",
            "children": [
              "IPY_MODEL_c783ecdb0d0c44d785963b82101da6e7",
              "IPY_MODEL_5753957320e447359cf730788afe566f",
              "IPY_MODEL_a06c1eb4d6004b22871d143b8b9cdd7e"
            ],
            "layout": "IPY_MODEL_51aff9647bee4881ac7ad548535b006c"
          }
        },
        "c783ecdb0d0c44d785963b82101da6e7": {
          "model_module": "@jupyter-widgets/controls",
          "model_name": "HTMLModel",
          "model_module_version": "1.5.0",
          "state": {
            "_dom_classes": [],
            "_model_module": "@jupyter-widgets/controls",
            "_model_module_version": "1.5.0",
            "_model_name": "HTMLModel",
            "_view_count": null,
            "_view_module": "@jupyter-widgets/controls",
            "_view_module_version": "1.5.0",
            "_view_name": "HTMLView",
            "description": "",
            "description_tooltip": null,
            "layout": "IPY_MODEL_fb4c241e1ce449ac93631464f0f428e7",
            "placeholder": "​",
            "style": "IPY_MODEL_bf86bb84c2a44b3b82a7e1f515a9904a",
            "value": "Iteration:  21%"
          }
        },
        "5753957320e447359cf730788afe566f": {
          "model_module": "@jupyter-widgets/controls",
          "model_name": "FloatProgressModel",
          "model_module_version": "1.5.0",
          "state": {
            "_dom_classes": [],
            "_model_module": "@jupyter-widgets/controls",
            "_model_module_version": "1.5.0",
            "_model_name": "FloatProgressModel",
            "_view_count": null,
            "_view_module": "@jupyter-widgets/controls",
            "_view_module_version": "1.5.0",
            "_view_name": "ProgressView",
            "bar_style": "",
            "description": "",
            "description_tooltip": null,
            "layout": "IPY_MODEL_a29b1dd6f0924521adae71a51d6de4be",
            "max": 3441,
            "min": 0,
            "orientation": "horizontal",
            "style": "IPY_MODEL_f760f463583e49648019f93ba175db9c",
            "value": 716
          }
        },
        "a06c1eb4d6004b22871d143b8b9cdd7e": {
          "model_module": "@jupyter-widgets/controls",
          "model_name": "HTMLModel",
          "model_module_version": "1.5.0",
          "state": {
            "_dom_classes": [],
            "_model_module": "@jupyter-widgets/controls",
            "_model_module_version": "1.5.0",
            "_model_name": "HTMLModel",
            "_view_count": null,
            "_view_module": "@jupyter-widgets/controls",
            "_view_module_version": "1.5.0",
            "_view_name": "HTMLView",
            "description": "",
            "description_tooltip": null,
            "layout": "IPY_MODEL_e54b24df53d84bbaa72a9ebfcc7eac89",
            "placeholder": "​",
            "style": "IPY_MODEL_42d379c4f0494d0f895627455868578b",
            "value": " 716/3441 [08:37&lt;32:09,  1.41it/s]"
          }
        },
        "51aff9647bee4881ac7ad548535b006c": {
          "model_module": "@jupyter-widgets/base",
          "model_name": "LayoutModel",
          "model_module_version": "1.2.0",
          "state": {
            "_model_module": "@jupyter-widgets/base",
            "_model_module_version": "1.2.0",
            "_model_name": "LayoutModel",
            "_view_count": null,
            "_view_module": "@jupyter-widgets/base",
            "_view_module_version": "1.2.0",
            "_view_name": "LayoutView",
            "align_content": null,
            "align_items": null,
            "align_self": null,
            "border": null,
            "bottom": null,
            "display": null,
            "flex": null,
            "flex_flow": null,
            "grid_area": null,
            "grid_auto_columns": null,
            "grid_auto_flow": null,
            "grid_auto_rows": null,
            "grid_column": null,
            "grid_gap": null,
            "grid_row": null,
            "grid_template_areas": null,
            "grid_template_columns": null,
            "grid_template_rows": null,
            "height": null,
            "justify_content": null,
            "justify_items": null,
            "left": null,
            "margin": null,
            "max_height": null,
            "max_width": null,
            "min_height": null,
            "min_width": null,
            "object_fit": null,
            "object_position": null,
            "order": null,
            "overflow": null,
            "overflow_x": null,
            "overflow_y": null,
            "padding": null,
            "right": null,
            "top": null,
            "visibility": null,
            "width": null
          }
        },
        "fb4c241e1ce449ac93631464f0f428e7": {
          "model_module": "@jupyter-widgets/base",
          "model_name": "LayoutModel",
          "model_module_version": "1.2.0",
          "state": {
            "_model_module": "@jupyter-widgets/base",
            "_model_module_version": "1.2.0",
            "_model_name": "LayoutModel",
            "_view_count": null,
            "_view_module": "@jupyter-widgets/base",
            "_view_module_version": "1.2.0",
            "_view_name": "LayoutView",
            "align_content": null,
            "align_items": null,
            "align_self": null,
            "border": null,
            "bottom": null,
            "display": null,
            "flex": null,
            "flex_flow": null,
            "grid_area": null,
            "grid_auto_columns": null,
            "grid_auto_flow": null,
            "grid_auto_rows": null,
            "grid_column": null,
            "grid_gap": null,
            "grid_row": null,
            "grid_template_areas": null,
            "grid_template_columns": null,
            "grid_template_rows": null,
            "height": null,
            "justify_content": null,
            "justify_items": null,
            "left": null,
            "margin": null,
            "max_height": null,
            "max_width": null,
            "min_height": null,
            "min_width": null,
            "object_fit": null,
            "object_position": null,
            "order": null,
            "overflow": null,
            "overflow_x": null,
            "overflow_y": null,
            "padding": null,
            "right": null,
            "top": null,
            "visibility": null,
            "width": null
          }
        },
        "bf86bb84c2a44b3b82a7e1f515a9904a": {
          "model_module": "@jupyter-widgets/controls",
          "model_name": "DescriptionStyleModel",
          "model_module_version": "1.5.0",
          "state": {
            "_model_module": "@jupyter-widgets/controls",
            "_model_module_version": "1.5.0",
            "_model_name": "DescriptionStyleModel",
            "_view_count": null,
            "_view_module": "@jupyter-widgets/base",
            "_view_module_version": "1.2.0",
            "_view_name": "StyleView",
            "description_width": ""
          }
        },
        "a29b1dd6f0924521adae71a51d6de4be": {
          "model_module": "@jupyter-widgets/base",
          "model_name": "LayoutModel",
          "model_module_version": "1.2.0",
          "state": {
            "_model_module": "@jupyter-widgets/base",
            "_model_module_version": "1.2.0",
            "_model_name": "LayoutModel",
            "_view_count": null,
            "_view_module": "@jupyter-widgets/base",
            "_view_module_version": "1.2.0",
            "_view_name": "LayoutView",
            "align_content": null,
            "align_items": null,
            "align_self": null,
            "border": null,
            "bottom": null,
            "display": null,
            "flex": null,
            "flex_flow": null,
            "grid_area": null,
            "grid_auto_columns": null,
            "grid_auto_flow": null,
            "grid_auto_rows": null,
            "grid_column": null,
            "grid_gap": null,
            "grid_row": null,
            "grid_template_areas": null,
            "grid_template_columns": null,
            "grid_template_rows": null,
            "height": null,
            "justify_content": null,
            "justify_items": null,
            "left": null,
            "margin": null,
            "max_height": null,
            "max_width": null,
            "min_height": null,
            "min_width": null,
            "object_fit": null,
            "object_position": null,
            "order": null,
            "overflow": null,
            "overflow_x": null,
            "overflow_y": null,
            "padding": null,
            "right": null,
            "top": null,
            "visibility": null,
            "width": null
          }
        },
        "f760f463583e49648019f93ba175db9c": {
          "model_module": "@jupyter-widgets/controls",
          "model_name": "ProgressStyleModel",
          "model_module_version": "1.5.0",
          "state": {
            "_model_module": "@jupyter-widgets/controls",
            "_model_module_version": "1.5.0",
            "_model_name": "ProgressStyleModel",
            "_view_count": null,
            "_view_module": "@jupyter-widgets/base",
            "_view_module_version": "1.2.0",
            "_view_name": "StyleView",
            "bar_color": null,
            "description_width": ""
          }
        },
        "e54b24df53d84bbaa72a9ebfcc7eac89": {
          "model_module": "@jupyter-widgets/base",
          "model_name": "LayoutModel",
          "model_module_version": "1.2.0",
          "state": {
            "_model_module": "@jupyter-widgets/base",
            "_model_module_version": "1.2.0",
            "_model_name": "LayoutModel",
            "_view_count": null,
            "_view_module": "@jupyter-widgets/base",
            "_view_module_version": "1.2.0",
            "_view_name": "LayoutView",
            "align_content": null,
            "align_items": null,
            "align_self": null,
            "border": null,
            "bottom": null,
            "display": null,
            "flex": null,
            "flex_flow": null,
            "grid_area": null,
            "grid_auto_columns": null,
            "grid_auto_flow": null,
            "grid_auto_rows": null,
            "grid_column": null,
            "grid_gap": null,
            "grid_row": null,
            "grid_template_areas": null,
            "grid_template_columns": null,
            "grid_template_rows": null,
            "height": null,
            "justify_content": null,
            "justify_items": null,
            "left": null,
            "margin": null,
            "max_height": null,
            "max_width": null,
            "min_height": null,
            "min_width": null,
            "object_fit": null,
            "object_position": null,
            "order": null,
            "overflow": null,
            "overflow_x": null,
            "overflow_y": null,
            "padding": null,
            "right": null,
            "top": null,
            "visibility": null,
            "width": null
          }
        },
        "42d379c4f0494d0f895627455868578b": {
          "model_module": "@jupyter-widgets/controls",
          "model_name": "DescriptionStyleModel",
          "model_module_version": "1.5.0",
          "state": {
            "_model_module": "@jupyter-widgets/controls",
            "_model_module_version": "1.5.0",
            "_model_name": "DescriptionStyleModel",
            "_view_count": null,
            "_view_module": "@jupyter-widgets/base",
            "_view_module_version": "1.2.0",
            "_view_name": "StyleView",
            "description_width": ""
          }
        }
      }
    },
    "accelerator": "GPU"
  },
  "cells": [
    {
      "cell_type": "code",
      "source": [
        "!pip install sentence_transformers"
      ],
      "metadata": {
        "colab": {
          "base_uri": "https://localhost:8080/"
        },
        "id": "EMngxPMUGYr8",
        "outputId": "7fe973c6-5d65-4b1d-b90a-26eb8a750b90"
      },
      "execution_count": 1,
      "outputs": [
        {
          "output_type": "stream",
          "name": "stdout",
          "text": [
            "Requirement already satisfied: sentence_transformers in /usr/local/lib/python3.10/dist-packages (2.2.2)\n",
            "Requirement already satisfied: transformers<5.0.0,>=4.6.0 in /usr/local/lib/python3.10/dist-packages (from sentence_transformers) (4.33.1)\n",
            "Requirement already satisfied: tqdm in /usr/local/lib/python3.10/dist-packages (from sentence_transformers) (4.66.1)\n",
            "Requirement already satisfied: torch>=1.6.0 in /usr/local/lib/python3.10/dist-packages (from sentence_transformers) (2.0.1+cu118)\n",
            "Requirement already satisfied: torchvision in /usr/local/lib/python3.10/dist-packages (from sentence_transformers) (0.15.2+cu118)\n",
            "Requirement already satisfied: numpy in /usr/local/lib/python3.10/dist-packages (from sentence_transformers) (1.23.5)\n",
            "Requirement already satisfied: scikit-learn in /usr/local/lib/python3.10/dist-packages (from sentence_transformers) (1.2.2)\n",
            "Requirement already satisfied: scipy in /usr/local/lib/python3.10/dist-packages (from sentence_transformers) (1.10.1)\n",
            "Requirement already satisfied: nltk in /usr/local/lib/python3.10/dist-packages (from sentence_transformers) (3.8.1)\n",
            "Requirement already satisfied: sentencepiece in /usr/local/lib/python3.10/dist-packages (from sentence_transformers) (0.1.99)\n",
            "Requirement already satisfied: huggingface-hub>=0.4.0 in /usr/local/lib/python3.10/dist-packages (from sentence_transformers) (0.16.4)\n",
            "Requirement already satisfied: filelock in /usr/local/lib/python3.10/dist-packages (from huggingface-hub>=0.4.0->sentence_transformers) (3.12.2)\n",
            "Requirement already satisfied: fsspec in /usr/local/lib/python3.10/dist-packages (from huggingface-hub>=0.4.0->sentence_transformers) (2023.6.0)\n",
            "Requirement already satisfied: requests in /usr/local/lib/python3.10/dist-packages (from huggingface-hub>=0.4.0->sentence_transformers) (2.31.0)\n",
            "Requirement already satisfied: pyyaml>=5.1 in /usr/local/lib/python3.10/dist-packages (from huggingface-hub>=0.4.0->sentence_transformers) (6.0.1)\n",
            "Requirement already satisfied: typing-extensions>=3.7.4.3 in /usr/local/lib/python3.10/dist-packages (from huggingface-hub>=0.4.0->sentence_transformers) (4.5.0)\n",
            "Requirement already satisfied: packaging>=20.9 in /usr/local/lib/python3.10/dist-packages (from huggingface-hub>=0.4.0->sentence_transformers) (23.1)\n",
            "Requirement already satisfied: sympy in /usr/local/lib/python3.10/dist-packages (from torch>=1.6.0->sentence_transformers) (1.12)\n",
            "Requirement already satisfied: networkx in /usr/local/lib/python3.10/dist-packages (from torch>=1.6.0->sentence_transformers) (3.1)\n",
            "Requirement already satisfied: jinja2 in /usr/local/lib/python3.10/dist-packages (from torch>=1.6.0->sentence_transformers) (3.1.2)\n",
            "Requirement already satisfied: triton==2.0.0 in /usr/local/lib/python3.10/dist-packages (from torch>=1.6.0->sentence_transformers) (2.0.0)\n",
            "Requirement already satisfied: cmake in /usr/local/lib/python3.10/dist-packages (from triton==2.0.0->torch>=1.6.0->sentence_transformers) (3.27.4.1)\n",
            "Requirement already satisfied: lit in /usr/local/lib/python3.10/dist-packages (from triton==2.0.0->torch>=1.6.0->sentence_transformers) (16.0.6)\n",
            "Requirement already satisfied: regex!=2019.12.17 in /usr/local/lib/python3.10/dist-packages (from transformers<5.0.0,>=4.6.0->sentence_transformers) (2023.6.3)\n",
            "Requirement already satisfied: tokenizers!=0.11.3,<0.14,>=0.11.1 in /usr/local/lib/python3.10/dist-packages (from transformers<5.0.0,>=4.6.0->sentence_transformers) (0.13.3)\n",
            "Requirement already satisfied: safetensors>=0.3.1 in /usr/local/lib/python3.10/dist-packages (from transformers<5.0.0,>=4.6.0->sentence_transformers) (0.3.3)\n",
            "Requirement already satisfied: click in /usr/local/lib/python3.10/dist-packages (from nltk->sentence_transformers) (8.1.7)\n",
            "Requirement already satisfied: joblib in /usr/local/lib/python3.10/dist-packages (from nltk->sentence_transformers) (1.3.2)\n",
            "Requirement already satisfied: threadpoolctl>=2.0.0 in /usr/local/lib/python3.10/dist-packages (from scikit-learn->sentence_transformers) (3.2.0)\n",
            "Requirement already satisfied: pillow!=8.3.*,>=5.3.0 in /usr/local/lib/python3.10/dist-packages (from torchvision->sentence_transformers) (9.4.0)\n",
            "Requirement already satisfied: MarkupSafe>=2.0 in /usr/local/lib/python3.10/dist-packages (from jinja2->torch>=1.6.0->sentence_transformers) (2.1.3)\n",
            "Requirement already satisfied: charset-normalizer<4,>=2 in /usr/local/lib/python3.10/dist-packages (from requests->huggingface-hub>=0.4.0->sentence_transformers) (3.2.0)\n",
            "Requirement already satisfied: idna<4,>=2.5 in /usr/local/lib/python3.10/dist-packages (from requests->huggingface-hub>=0.4.0->sentence_transformers) (3.4)\n",
            "Requirement already satisfied: urllib3<3,>=1.21.1 in /usr/local/lib/python3.10/dist-packages (from requests->huggingface-hub>=0.4.0->sentence_transformers) (2.0.4)\n",
            "Requirement already satisfied: certifi>=2017.4.17 in /usr/local/lib/python3.10/dist-packages (from requests->huggingface-hub>=0.4.0->sentence_transformers) (2023.7.22)\n",
            "Requirement already satisfied: mpmath>=0.19 in /usr/local/lib/python3.10/dist-packages (from sympy->torch>=1.6.0->sentence_transformers) (1.3.0)\n"
          ]
        }
      ]
    },
    {
      "cell_type": "code",
      "execution_count": 2,
      "metadata": {
        "colab": {
          "base_uri": "https://localhost:8080/",
          "height": 542
        },
        "id": "RpQVhuDbF0Wc",
        "outputId": "c51a13da-293e-46ca-c55b-38cc40fb2fda"
      },
      "outputs": [
        {
          "output_type": "stream",
          "name": "stderr",
          "text": [
            "Exception ignored in: <function _xla_gc_callback at 0x7ba65c411480>\n",
            "Traceback (most recent call last):\n",
            "  File \"/usr/local/lib/python3.10/dist-packages/jax/_src/lib/__init__.py\", line 98, in _xla_gc_callback\n",
            "    def _xla_gc_callback(*args):\n",
            "KeyboardInterrupt: \n"
          ]
        },
        {
          "output_type": "error",
          "ename": "ImportError",
          "evalue": "ignored",
          "traceback": [
            "\u001b[0;31m---------------------------------------------------------------------------\u001b[0m",
            "\u001b[0;31mImportError\u001b[0m                               Traceback (most recent call last)",
            "\u001b[0;32m<ipython-input-2-c367071325bc>\u001b[0m in \u001b[0;36m<cell line: 1>\u001b[0;34m()\u001b[0m\n\u001b[0;32m----> 1\u001b[0;31m \u001b[0;32mfrom\u001b[0m \u001b[0msentence_transformers\u001b[0m \u001b[0;32mimport\u001b[0m \u001b[0mSentenceTransformer\u001b[0m\u001b[0;34m,\u001b[0m \u001b[0mLoggingHandler\u001b[0m\u001b[0;34m,\u001b[0m \u001b[0mmodels\u001b[0m\u001b[0;34m,\u001b[0m \u001b[0mevaluation\u001b[0m\u001b[0;34m,\u001b[0m \u001b[0mlosses\u001b[0m\u001b[0;34m,\u001b[0m \u001b[0mEmbeddingSimilarityEvaluator\u001b[0m\u001b[0;34m\u001b[0m\u001b[0;34m\u001b[0m\u001b[0m\n\u001b[0m\u001b[1;32m      2\u001b[0m \u001b[0;32mfrom\u001b[0m \u001b[0mtorch\u001b[0m\u001b[0;34m.\u001b[0m\u001b[0mutils\u001b[0m\u001b[0;34m.\u001b[0m\u001b[0mdata\u001b[0m \u001b[0;32mimport\u001b[0m \u001b[0mDataLoader\u001b[0m\u001b[0;34m\u001b[0m\u001b[0;34m\u001b[0m\u001b[0m\n\u001b[1;32m      3\u001b[0m \u001b[0;32mfrom\u001b[0m \u001b[0msentence_transformers\u001b[0m\u001b[0;34m.\u001b[0m\u001b[0mdatasets\u001b[0m \u001b[0;32mimport\u001b[0m \u001b[0mParallelSentencesDataset\u001b[0m\u001b[0;34m\u001b[0m\u001b[0;34m\u001b[0m\u001b[0m\n\u001b[1;32m      4\u001b[0m \u001b[0;32mfrom\u001b[0m \u001b[0mdatetime\u001b[0m \u001b[0;32mimport\u001b[0m \u001b[0mdatetime\u001b[0m\u001b[0;34m\u001b[0m\u001b[0;34m\u001b[0m\u001b[0m\n\u001b[1;32m      5\u001b[0m \u001b[0;34m\u001b[0m\u001b[0m\n",
            "\u001b[0;31mImportError\u001b[0m: cannot import name 'EmbeddingSimilarityEvaluator' from 'sentence_transformers' (/usr/local/lib/python3.10/dist-packages/sentence_transformers/__init__.py)",
            "",
            "\u001b[0;31m---------------------------------------------------------------------------\u001b[0;32m\nNOTE: If your import is failing due to a missing package, you can\nmanually install dependencies using either !pip or !apt.\n\nTo view examples of installing some common dependencies, click the\n\"Open Examples\" button below.\n\u001b[0;31m---------------------------------------------------------------------------\u001b[0m\n"
          ],
          "errorDetails": {
            "actions": [
              {
                "action": "open_url",
                "actionText": "Open Examples",
                "url": "/notebooks/snippets/importing_libraries.ipynb"
              }
            ]
          }
        }
      ],
      "source": [
        "from sentence_transformers import SentenceTransformer, LoggingHandler, models, evaluation, losses, EmbeddingSimilarityEvaluator\n",
        "from torch.utils.data import DataLoader\n",
        "from sentence_transformers.datasets import ParallelSentencesDataset\n",
        "from datetime import datetime\n",
        "\n",
        "import os\n",
        "import logging\n",
        "import sentence_transformers.util\n",
        "import csv\n",
        "import gzip\n",
        "from tqdm.autonotebook import tqdm\n",
        "import numpy as np\n",
        "import zipfile\n",
        "import io\n",
        "\n",
        "logging.basicConfig(format='%(asctime)s - %(message)s',\n",
        "                    datefmt='%Y-%m-%d %H:%M:%S',\n",
        "                    level=logging.INFO,\n",
        "                    handlers=[LoggingHandler()])\n",
        "logger = logging.getLogger(__name__)\n",
        "\n",
        "\n",
        "teacher_model_name = 'paraphrase-distilroberta-base-v2'   #Our monolingual teacher model, we want to convert to multiple languages\n",
        "student_model_name = 'xlm-roberta-base'       #Multilingual base model we use to imitate the teacher model\n",
        "\n",
        "max_seq_length = 128                #Student model max. lengths for inputs (number of word pieces)\n",
        "train_batch_size = 64               #Batch size for training\n",
        "inference_batch_size = 64           #Batch size at inference\n",
        "max_sentences_per_language = 500000 #Maximum number of  parallel sentences for training\n",
        "train_max_sentence_length = 250     #Maximum length (characters) for parallel training sentences\n",
        "\n",
        "num_epochs = 5                       #Train for x epochs\n",
        "num_warmup_steps = 10000             #Warumup steps\n",
        "\n",
        "num_evaluation_steps = 1000          #Evaluate performance after every xxxx steps\n",
        "dev_sentences = 1000                 #Number of parallel sentences to be used for development\n",
        "\n",
        "\n",
        "# Define the language codes you would like to extend the model to\n",
        "source_languages = set(['ru'])                      # Our teacher model accepts English (en) sentences\n",
        "target_languages = set(['ta'])    # We want to extend the model to these new languages. For language codes, see the header of the train file\n",
        "\n",
        "\n",
        "output_path = \"output/make-multilingual-\"+\"-\".join(sorted(list(source_languages))+sorted(list(target_languages)))+\"-\"+datetime.now().strftime(\"%Y-%m-%d_%H-%M-%S\")\n",
        "\n",
        "\n",
        "# This function downloads a corpus if it does not exist\n",
        "def download_corpora(filepaths):\n",
        "    if not isinstance(filepaths, list):\n",
        "        filepaths = [filepaths]\n",
        "\n",
        "    for filepath in filepaths:\n",
        "        if not os.path.exists(filepath):\n",
        "            print(filepath, \"does not exists. Try to download from server\")\n",
        "            filename = os.path.basename(filepath)\n",
        "            url = \"https://sbert.net/datasets/\" + filename\n",
        "            sentence_transformers.util.http_get(url, filepath)\n",
        "\n",
        "\n",
        "# Here we define train train and dev corpora\n",
        "train_corpus = \"datasets/ted2020.tsv.gz\"         # Transcripts of TED talks, crawled 2020\n",
        "sts_corpus = \"datasets/STS2017-extended.zip\"     # Extended STS2017 dataset for more languages\n",
        "parallel_sentences_folder = \"parallel-sentences/\"\n",
        "\n",
        "# Check if the file exists. If not, they are downloaded\n",
        "download_corpora([train_corpus, sts_corpus])\n",
        "\n",
        "\n",
        "# Create parallel files for the selected language combinations\n",
        "os.makedirs(parallel_sentences_folder, exist_ok=True)\n",
        "train_files = []\n",
        "dev_files = []\n",
        "files_to_create = []\n",
        "for source_lang in source_languages:\n",
        "    for target_lang in target_languages:\n",
        "        output_filename_train = os.path.join(parallel_sentences_folder, \"TED2020-{}-{}-train.tsv.gz\".format(source_lang, target_lang))\n",
        "        output_filename_dev = os.path.join(parallel_sentences_folder, \"TED2020-{}-{}-dev.tsv.gz\".format(source_lang, target_lang))\n",
        "        train_files.append(output_filename_train)\n",
        "        dev_files.append(output_filename_dev)\n",
        "        if not os.path.exists(output_filename_train) or not os.path.exists(output_filename_dev):\n",
        "            files_to_create.append({'src_lang': source_lang, 'trg_lang': target_lang,\n",
        "                                    'fTrain': gzip.open(output_filename_train, 'wt', encoding='utf8'),\n",
        "                                    'fDev': gzip.open(output_filename_dev, 'wt', encoding='utf8'),\n",
        "                                    'devCount': 0\n",
        "                                    })\n",
        "\n",
        "if len(files_to_create) > 0:\n",
        "    print(\"Parallel sentences files {} do not exist. Create these files now\".format(\", \".join(map(lambda x: x['src_lang']+\"-\"+x['trg_lang'], files_to_create))))\n",
        "    with gzip.open(train_corpus, 'rt', encoding='utf8') as fIn:\n",
        "        reader = csv.DictReader(fIn, delimiter='\\t', quoting=csv.QUOTE_NONE)\n",
        "        for line in tqdm(reader, desc=\"Sentences\"):\n",
        "            for outfile in files_to_create:\n",
        "                src_text = line[outfile['src_lang']].strip()\n",
        "                trg_text = line[outfile['trg_lang']].strip()\n",
        "\n",
        "                if src_text != \"\" and trg_text != \"\":\n",
        "                    if outfile['devCount'] < dev_sentences:\n",
        "                        outfile['devCount'] += 1\n",
        "                        fOut = outfile['fDev']\n",
        "                    else:\n",
        "                        fOut = outfile['fTrain']\n",
        "\n",
        "                    fOut.write(\"{}\\t{}\\n\".format(src_text, trg_text))\n",
        "\n",
        "    for outfile in files_to_create:\n",
        "        outfile['fTrain'].close()\n",
        "        outfile['fDev'].close()\n",
        "\n",
        "\n",
        "\n",
        "######## Start the extension of the teacher model to multiple languages ########\n",
        "logger.info(\"Load teacher model\")\n",
        "teacher_model = SentenceTransformer(teacher_model_name)\n",
        "\n",
        "\n",
        "logger.info(\"Create student model from scratch\")\n",
        "word_embedding_model = models.Transformer(student_model_name, max_seq_length=max_seq_length)\n",
        "# Apply mean pooling to get one fixed sized sentence vector\n",
        "pooling_model = models.Pooling(word_embedding_model.get_word_embedding_dimension())\n",
        "student_model = SentenceTransformer(modules=[word_embedding_model, pooling_model])\n",
        "\n",
        "\n",
        "###### Read Parallel Sentences Dataset ######\n",
        "train_data = ParallelSentencesDataset(student_model=student_model, teacher_model=teacher_model, batch_size=inference_batch_size, use_embedding_cache=True)\n",
        "for train_file in train_files:\n",
        "    train_data.load_data(train_file, max_sentences=max_sentences_per_language, max_sentence_length=train_max_sentence_length)\n",
        "\n",
        "train_dataloader = DataLoader(train_data, shuffle=True, batch_size=train_batch_size)\n",
        "train_loss = losses.MSELoss(model=student_model)\n",
        "\n",
        "\n",
        "\n",
        "#### Evaluate cross-lingual performance on different tasks #####\n",
        "evaluators = []         #evaluators has a list of different evaluator classes we call periodically\n",
        "\n",
        "for dev_file in dev_files:\n",
        "    logger.info(\"Create evaluator for \" + dev_file)\n",
        "    src_sentences = []\n",
        "    trg_sentences = []\n",
        "    with gzip.open(dev_file, 'rt', encoding='utf8') as fIn:\n",
        "        for line in fIn:\n",
        "            splits = line.strip().split('\\t')\n",
        "            if splits[0] != \"\" and splits[1] != \"\":\n",
        "                src_sentences.append(splits[0])\n",
        "                trg_sentences.append(splits[1])\n",
        "\n",
        "\n",
        "    #Mean Squared Error (MSE) measures the (euclidean) distance between teacher and student embeddings\n",
        "    dev_mse = evaluation.MSEEvaluator(src_sentences, trg_sentences, name=os.path.basename(dev_file), teacher_model=teacher_model, batch_size=inference_batch_size)\n",
        "    evaluators.append(dev_mse)\n",
        "\n",
        "    # TranslationEvaluator computes the embeddings for all parallel sentences. It then check if the embedding of source[i] is the closest to target[i] out of all available target sentences\n",
        "    dev_trans_acc = evaluation.TranslationEvaluator(src_sentences, trg_sentences, name=os.path.basename(dev_file),batch_size=inference_batch_size)\n",
        "    evaluators.append(dev_trans_acc)\n",
        "\n",
        "\n",
        "##### Read cross-lingual Semantic Textual Similarity (STS) data ####\n",
        "all_languages = list(set(list(source_languages)+list(target_languages)))\n",
        "sts_data = {}\n",
        "\n",
        "#Open the ZIP File of STS2017-extended.zip and check for which language combinations we have STS data\n",
        "with zipfile.ZipFile(sts_corpus) as zip:\n",
        "    filelist = zip.namelist()\n",
        "    sts_files = []\n",
        "\n",
        "    for i in range(len(all_languages)):\n",
        "        for j in range(i, len(all_languages)):\n",
        "            lang1 = all_languages[i]\n",
        "            lang2 = all_languages[j]\n",
        "            filepath = 'STS2017-extended/STS.{}-{}.txt'.format(lang1, lang2)\n",
        "            if filepath not in filelist:\n",
        "                lang1, lang2 = lang2, lang1\n",
        "                filepath = 'STS2017-extended/STS.{}-{}.txt'.format(lang1, lang2)\n",
        "\n",
        "            if filepath in filelist:\n",
        "                filename = os.path.basename(filepath)\n",
        "                sts_data[filename] = {'sentences1': [], 'sentences2': [], 'scores': []}\n",
        "\n",
        "                fIn = zip.open(filepath)\n",
        "                for line in io.TextIOWrapper(fIn, 'utf8'):\n",
        "                    sent1, sent2, score = line.strip().split(\"\\t\")\n",
        "                    score = float(score)\n",
        "                    sts_data[filename]['sentences1'].append(sent1)\n",
        "                    sts_data[filename]['sentences2'].append(sent2)\n",
        "                    sts_data[filename]['scores'].append(score)\n",
        "\n",
        "for filename, data in sts_data.items():\n",
        "    test_evaluator = evaluation.EmbeddingSimilarityEvaluator(data['sentences1'], data['sentences2'], data['scores'], batch_size=inference_batch_size, name=filename, show_progress_bar=False)\n",
        "    evaluators.append(test_evaluator)\n",
        "\n",
        "\n",
        "# Train the model\n",
        "student_model.fit(train_objectives=[(train_dataloader, train_loss)],\n",
        "          evaluator=evaluation.SequentialEvaluator(evaluators, main_score_function=lambda scores: np.mean(scores)),\n",
        "          epochs=num_epochs,\n",
        "          warmup_steps=num_warmup_steps,\n",
        "          evaluation_steps=num_evaluation_steps,\n",
        "          output_path=output_path,\n",
        "          save_best_model=True,\n",
        "          optimizer_params= {'lr': 2e-5, 'eps': 1e-6, 'correct_bias': False}\n",
        "          )"
      ]
    },
    {
      "cell_type": "code",
      "source": [
        "from sentence_transformers.datasets import ParallelSentencesDataset\n",
        "from sentence_transformers import SentenceTransformer, LoggingHandler, models, evaluation, losses, InputExample\n",
        "from torch.utils.data import DataLoader\n",
        "from sentence_transformers.datasets import ParallelSentencesDataset\n",
        "from datetime import datetime"
      ],
      "metadata": {
        "id": "9eJwjJ1PNhJF"
      },
      "execution_count": 2,
      "outputs": []
    },
    {
      "cell_type": "markdown",
      "source": [
        "#Distillation training"
      ],
      "metadata": {
        "id": "jmNFquwen8i4"
      }
    },
    {
      "cell_type": "code",
      "source": [
        "max_seq_length = 256                #Student model max. lengths for inputs (number of word pieces)\n",
        "train_batch_size = 64               #Batch size for training\n",
        "inference_batch_size = 64           #Batch size at inference\n",
        "max_sentences_per_language = 500000 #Maximum number of  parallel sentences for training\n",
        "train_max_sentence_length = 250     #Maximum length (characters) for parallel training sentences\n",
        "\n",
        "num_epochs = 5                       #Train for x epochs\n",
        "num_warmup_steps = 10000             #Warumup steps\n",
        "\n",
        "num_evaluation_steps = 1000          #Evaluate performance after every xxxx steps\n",
        "dev_sentences = 1000\n",
        "\n",
        "\n",
        "model = SentenceTransformer('distilbert-base-nli-mean-tokens')\n",
        "teacher_model_name = 'paraphrase-distilroberta-base-v2'   #Our monolingual teacher model, we want to convert to multiple languages\n",
        "student_model_name = 'xlm-roberta-base'\n",
        "word_embedding_model = models.Transformer(student_model_name, max_seq_length=max_seq_length)\n",
        "# Apply mean pooling to get one fixed sized sentence vector\n",
        "pooling_model = models.Pooling(word_embedding_model.get_word_embedding_dimension())\n",
        "student_model = SentenceTransformer(modules=[word_embedding_model, pooling_model])\n",
        "teacher_model = SentenceTransformer(teacher_model_name)\n",
        "train_data = ParallelSentencesDataset(student_model=student_model, teacher_model=teacher_model)\n",
        "train_data.load_data('/content/drive/MyDrive/RU-TT-2018-50000.txt')\n",
        "\n",
        "\n",
        "train_dataloader = DataLoader(train_data, shuffle=True, batch_size=train_batch_size)\n",
        "train_loss = losses.MSELoss(model=student_model)"
      ],
      "metadata": {
        "id": "1YH9EhOiNGEq"
      },
      "execution_count": 3,
      "outputs": []
    },
    {
      "cell_type": "code",
      "source": [
        "student_model.fit(train_objectives=[(train_dataloader, train_loss)],\n",
        "          #evaluator=evaluation.SequentialEvaluator(evaluators, main_score_function=lambda scores: np.mean(scores)),\n",
        "          epochs=5,\n",
        "          warmup_steps=1000,\n",
        "          #evaluation_steps=num_evaluation_steps,\n",
        "          output_path='/content/drive/MyDrive/outp_st',\n",
        "          save_best_model=True,\n",
        "          optimizer_params= {'lr': 2e-5, 'eps': 1e-6}\n",
        "          )"
      ],
      "metadata": {
        "colab": {
          "base_uri": "https://localhost:8080/",
          "height": 262
        },
        "id": "6G8-v-g5PKZb",
        "outputId": "97375807-cffc-4f27-f4ea-036c3729c57b"
      },
      "execution_count": null,
      "outputs": [
        {
          "output_type": "error",
          "ename": "NameError",
          "evalue": "ignored",
          "traceback": [
            "\u001b[0;31m---------------------------------------------------------------------------\u001b[0m",
            "\u001b[0;31mNameError\u001b[0m                                 Traceback (most recent call last)",
            "\u001b[0;32m<ipython-input-4-4f70ebde8080>\u001b[0m in \u001b[0;36m<cell line: 1>\u001b[0;34m()\u001b[0m\n\u001b[0;32m----> 1\u001b[0;31m student_model.fit(train_objectives=[(train_dataloader, train_loss)],\n\u001b[0m\u001b[1;32m      2\u001b[0m           \u001b[0;31m#evaluator=evaluation.SequentialEvaluator(evaluators, main_score_function=lambda scores: np.mean(scores)),\u001b[0m\u001b[0;34m\u001b[0m\u001b[0;34m\u001b[0m\u001b[0m\n\u001b[1;32m      3\u001b[0m           \u001b[0mepochs\u001b[0m\u001b[0;34m=\u001b[0m\u001b[0;36m5\u001b[0m\u001b[0;34m,\u001b[0m\u001b[0;34m\u001b[0m\u001b[0;34m\u001b[0m\u001b[0m\n\u001b[1;32m      4\u001b[0m           \u001b[0mwarmup_steps\u001b[0m\u001b[0;34m=\u001b[0m\u001b[0;36m1000\u001b[0m\u001b[0;34m,\u001b[0m\u001b[0;34m\u001b[0m\u001b[0;34m\u001b[0m\u001b[0m\n\u001b[1;32m      5\u001b[0m           \u001b[0;31m#evaluation_steps=num_evaluation_steps,\u001b[0m\u001b[0;34m\u001b[0m\u001b[0;34m\u001b[0m\u001b[0m\n",
            "\u001b[0;31mNameError\u001b[0m: name 'train_dataloader' is not defined"
          ]
        }
      ]
    },
    {
      "cell_type": "code",
      "source": [
        "from google.colab import drive\n",
        "drive.mount('/content/drive')"
      ],
      "metadata": {
        "colab": {
          "base_uri": "https://localhost:8080/"
        },
        "id": "sirWsYDzpenV",
        "outputId": "dbfc02e7-536b-40bd-dfb0-fb29741bfc63"
      },
      "execution_count": 4,
      "outputs": [
        {
          "output_type": "stream",
          "name": "stdout",
          "text": [
            "Mounted at /content/drive\n"
          ]
        }
      ]
    },
    {
      "cell_type": "code",
      "source": [
        "emb = teacher_model.encode(['\"О дивный новый мир\" - изысканная и остроумная антиутопия о генетически программируемом обществе потребления, в котором разворачивается трагическая история Дикаря - \"Гамлета\" этого мира.Роман Олдоса Хаксли \"О дивный новый мир\" (1932) – одна из классических антиутопий. Разделенное на касты общество потребления не признает отклонения от выработанной нормы, поэтому никак не может вписаться в него тот, кто еще сохранил в себе остатки человечности – Дикарь'])\n",
        "emb1 = teacher_model.encode(['История семнадцатилетнего Себастьяна Барнака и трех людей, перевернувших его жизнь. Дядюшка Юстас, гедонист и бонвиван, научит юношу со вкусом наслаждаться земными радостями. Красивая и загадочная зрелая женщина Вероника Твейл станет его первой любовью. А другому дядюшке, мистику и искателю высшей истины Бруно, предстоит открыть Себастьяну, что в мире есть вещи куда важнее повседневной реальности…Каждый из этих героев несет свою идею и высказывает немало горьких и справедливых истин об устройстве человеческой души, общества и даже Вселенной.Сам Хаксли считал, что в этом романе ему удалось наиболее глубоко исследовать проблемы, встающие перед человеком XX века. Впервые на русском языке!'])"
      ],
      "metadata": {
        "id": "tNmYflUMREX7"
      },
      "execution_count": null,
      "outputs": []
    },
    {
      "cell_type": "code",
      "source": [
        "emb = teacher_model.encode(['Но Шельга с величайшим удивлением глядел уже не на мальчика, а мимо его плеча- на дверные стекла.'])\n",
        "emb1 = teacher_model.encode(['Ну'])"
      ],
      "metadata": {
        "id": "yhgwY2YVPtJ4"
      },
      "execution_count": null,
      "outputs": []
    },
    {
      "cell_type": "code",
      "source": [
        "from scipy.spatial import distance\n"
      ],
      "metadata": {
        "id": "5XA89-JFQZLl"
      },
      "execution_count": 12,
      "outputs": []
    },
    {
      "cell_type": "markdown",
      "source": [
        "#Translation training"
      ],
      "metadata": {
        "id": "EX_DnvI-p3Fv"
      }
    },
    {
      "cell_type": "code",
      "source": [
        "model = teacher_model\n"
      ],
      "metadata": {
        "id": "mCgkJ_wQp4y0"
      },
      "execution_count": 4,
      "outputs": []
    },
    {
      "cell_type": "code",
      "source": [
        "import pandas as pd\n",
        "\n",
        "\n",
        "df = pd.read_excel('/content/drive/MyDrive/RU-TT-2018-50000.xlsx')\n",
        "df.columns = ['rus', 'tat']"
      ],
      "metadata": {
        "id": "ytEjZ6e7q_G7"
      },
      "execution_count": 5,
      "outputs": []
    },
    {
      "cell_type": "code",
      "source": [
        "train_samples = []\n",
        "\n",
        "for i, row in enumerate(df.iloc[:6000, :].iterrows()):\n",
        "  train_samples.append(InputExample(texts=[row[1]['rus'], row[1]['tat']], label=1.0))"
      ],
      "metadata": {
        "id": "wsHfLx7Is38w"
      },
      "execution_count": 6,
      "outputs": []
    },
    {
      "cell_type": "code",
      "source": [
        "iter_lst = []\n",
        "for row in df.iterrows():\n",
        "  if type(row[1]['rus']) != int and type(row[1]['tat']) != int:\n",
        "    iter_lst.append(row[1])"
      ],
      "metadata": {
        "id": "Vk5EIXs9uZ4y"
      },
      "execution_count": 7,
      "outputs": []
    },
    {
      "cell_type": "code",
      "source": [
        "len(iter_lst)"
      ],
      "metadata": {
        "colab": {
          "base_uri": "https://localhost:8080/"
        },
        "id": "aIuEEG_v8F8L",
        "outputId": "bc008bae-3ad3-41cd-e954-aab5b3942dba"
      },
      "execution_count": 9,
      "outputs": [
        {
          "output_type": "execute_result",
          "data": {
            "text/plain": [
              "99873"
            ]
          },
          "metadata": {},
          "execution_count": 9
        }
      ]
    },
    {
      "cell_type": "code",
      "source": [
        "from random import randint\n",
        "from tqdm import tqdm\n",
        "\n",
        "for i, row in tqdm(enumerate(iter_lst[10000:])):\n",
        "  if i % 4 == 0:\n",
        "    for _ in range(2):\n",
        "      idx = randint(0, len(iter_lst) - 1)\n",
        "      if i != idx:\n",
        "        texts = [iter_lst[idx]['tat'], row['tat']]\n",
        "        # print(iter_lst[idx])\n",
        "        try:\n",
        "          emb = model.encode(iter_lst[idx]['rus'])\n",
        "          emb1 = model.encode(row['rus'])\n",
        "          label = 1 - distance.cosine(emb, emb1)\n",
        "          # print(type(label))\n",
        "          train_samples.append(InputExample(texts=texts, label=float(label)))\n",
        "          # print(len(train_samples))\n",
        "        except:\n",
        "          pass\n",
        "\n",
        "    for _ in range(1):\n",
        "      idx = randint(0, len(iter_lst) - 1)\n",
        "      if i != idx:\n",
        "        texts = [iter_lst[idx]['tat'], row['rus']]\n",
        "        try:\n",
        "          emb = model.encode(iter_lst[idx]['rus'])\n",
        "          emb1 = model.encode(row['rus'])\n",
        "          label = 1 - distance.cosine(emb, emb1)\n",
        "          train_samples.append(InputExample(texts=texts, label=float(label)))\n",
        "          # train_samples.append(InputExample())\n",
        "        except:\n",
        "          pass"
      ],
      "metadata": {
        "colab": {
          "base_uri": "https://localhost:8080/"
        },
        "id": "A8lbFNvxwCz7",
        "outputId": "d8c84b18-a072-49a1-f402-f544ebd65e8f"
      },
      "execution_count": 13,
      "outputs": [
        {
          "output_type": "stream",
          "name": "stderr",
          "text": [
            "89873it [20:15, 73.93it/s]\n"
          ]
        }
      ]
    },
    {
      "cell_type": "code",
      "source": [
        "from sklearn.model_selection import train_test_split\n",
        "\n",
        "train_data, val_data = train_test_split(train_samples)\n",
        "train_dataloader = DataLoader(train_data, shuffle=True, batch_size=16)\n",
        "# val_dataloader = DataLoader(val_data, shuffle=False, batch_size=16, collate_fn=collate_fn)"
      ],
      "metadata": {
        "id": "Hc_edN1NwUJC"
      },
      "execution_count": 33,
      "outputs": []
    },
    {
      "cell_type": "code",
      "source": [
        "evaluator = evaluation.EmbeddingSimilarityEvaluator.from_input_examples(val_data)"
      ],
      "metadata": {
        "id": "RPR9LMQ6qHzp"
      },
      "execution_count": 35,
      "outputs": []
    },
    {
      "cell_type": "code",
      "source": [
        "train_dataloader = DataLoader(train_samples, shuffle=True, batch_size=16)"
      ],
      "metadata": {
        "id": "hNctHwV_Wv8s"
      },
      "execution_count": 20,
      "outputs": []
    },
    {
      "cell_type": "code",
      "source": [
        "len(val_data)"
      ],
      "metadata": {
        "colab": {
          "base_uri": "https://localhost:8080/"
        },
        "id": "jtiqFBoDLdP8",
        "outputId": "5f48b8b3-1271-475b-cb09-728e87b14672"
      },
      "execution_count": 23,
      "outputs": [
        {
          "output_type": "execute_result",
          "data": {
            "text/plain": [
              "1568"
            ]
          },
          "metadata": {},
          "execution_count": 23
        }
      ]
    },
    {
      "cell_type": "code",
      "source": [
        "import pickle\n",
        "with open('/content/drive/MyDrive/dataset.pkl', 'wb') as file:\n",
        "  pickle.dump(train_samples, file)\n",
        "  file.close()\n",
        "\n",
        "with open('/content/drive/MyDrive/dataset.pkl', 'rb') as file:\n",
        "  train_sam = pickle.load(file)\n",
        "  file.close()\n"
      ],
      "metadata": {
        "id": "icSlAkKTOQyR"
      },
      "execution_count": 14,
      "outputs": []
    },
    {
      "cell_type": "code",
      "source": [
        "len(train_samples)"
      ],
      "metadata": {
        "id": "0-VJMSsmirEU",
        "outputId": "6869a3d8-042b-47dc-d496-e8e63ca810af",
        "colab": {
          "base_uri": "https://localhost:8080/"
        }
      },
      "execution_count": 21,
      "outputs": [
        {
          "output_type": "execute_result",
          "data": {
            "text/plain": [
              "73390"
            ]
          },
          "metadata": {},
          "execution_count": 21
        }
      ]
    },
    {
      "cell_type": "code",
      "source": [
        "# train_dataloader = DataLoader(train_samples, shuffle=True, batch_size=train_batch_size)\n",
        "train_loss = losses.CosineSimilarityLoss(model=model)\n",
        "\n",
        "# evaluator = evaluation.EmbeddingSimilarityEvaluator.from_input_examples(val_dataloader)"
      ],
      "metadata": {
        "id": "JPeRNlAZ_8zu"
      },
      "execution_count": 17,
      "outputs": []
    },
    {
      "cell_type": "code",
      "source": [
        "\n",
        "model.fit(train_objectives=[(train_dataloader, train_loss)],\n",
        "          evaluator=evaluator,\n",
        "          epochs=num_epochs,\n",
        "          evaluation_steps=1000,\n",
        "          warmup_steps=1000,\n",
        "          output_path='/content/drive/MyDrive/outp_model')"
      ],
      "metadata": {
        "colab": {
          "base_uri": "https://localhost:8080/",
          "height": 81,
          "referenced_widgets": [
            "bdcadca2dddc459785ae34a14adfbeb5",
            "21e47e36c4254b8094b158f61426aeb6",
            "d849617e3a944bcc919cdd49d878fab2",
            "3b352ae2931c46d0baaf58b4870c7541",
            "ea38dc850f414f24809a1c2342cbdf85",
            "a8d08a4135a84c7d896d626c39bec1ed",
            "049b378644664a009cc0a3dda54c9593",
            "fbebf0248de74dc9bb17415f19e4101c",
            "8860347ed7394e6ebd8a0eada09170bf",
            "0f8116e9ad0c4768a870181d582b9832",
            "44f2964d95174d6ab28cbad15fb3dc30",
            "f9b080484962477f854a13984e8b6b3b",
            "c783ecdb0d0c44d785963b82101da6e7",
            "5753957320e447359cf730788afe566f",
            "a06c1eb4d6004b22871d143b8b9cdd7e",
            "51aff9647bee4881ac7ad548535b006c",
            "fb4c241e1ce449ac93631464f0f428e7",
            "bf86bb84c2a44b3b82a7e1f515a9904a",
            "a29b1dd6f0924521adae71a51d6de4be",
            "f760f463583e49648019f93ba175db9c",
            "e54b24df53d84bbaa72a9ebfcc7eac89",
            "42d379c4f0494d0f895627455868578b"
          ]
        },
        "id": "-5kMhsNU4pLw",
        "outputId": "02ab0ea7-e658-42ee-81b9-63bb0e0b5481"
      },
      "execution_count": null,
      "outputs": [
        {
          "output_type": "display_data",
          "data": {
            "text/plain": [
              "Epoch:   0%|          | 0/5 [00:00<?, ?it/s]"
            ],
            "application/vnd.jupyter.widget-view+json": {
              "version_major": 2,
              "version_minor": 0,
              "model_id": "bdcadca2dddc459785ae34a14adfbeb5"
            }
          },
          "metadata": {}
        },
        {
          "output_type": "display_data",
          "data": {
            "text/plain": [
              "Iteration:   0%|          | 0/3441 [00:00<?, ?it/s]"
            ],
            "application/vnd.jupyter.widget-view+json": {
              "version_major": 2,
              "version_minor": 0,
              "model_id": "f9b080484962477f854a13984e8b6b3b"
            }
          },
          "metadata": {}
        }
      ]
    },
    {
      "cell_type": "code",
      "source": [],
      "metadata": {
        "id": "hDLFdRefWfjD"
      },
      "execution_count": null,
      "outputs": []
    }
  ]
}